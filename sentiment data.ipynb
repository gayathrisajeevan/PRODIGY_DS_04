{
 "cells": [
  {
   "cell_type": "code",
   "execution_count": 8,
   "id": "7e5250ba-489a-4d8d-a592-fc1d04025f8c",
   "metadata": {},
   "outputs": [
    {
     "name": "stdout",
     "output_type": "stream",
     "text": [
      "✅ Cleaned data saved as cleaned_sentiment_data.csv\n"
     ]
    }
   ],
   "source": [
    "import pandas as pd\n",
    "\n",
    "# Read the file using proper CSV parsing (handles quotes and commas inside text)\n",
    "df = pd.read_csv(\"twitter.csv\", header=None, quotechar='\"', skip_blank_lines=True)\n",
    "\n",
    "# Assign column names manually\n",
    "df.columns = ['ID', 'Entity', 'Sentiment', 'Tweet']\n",
    "\n",
    "# Drop missing values\n",
    "df = df.dropna()\n",
    "\n",
    "# Capitalize sentiment labels (e.g., positive → Positive)\n",
    "df['Sentiment'] = df['Sentiment'].str.capitalize()\n",
    "\n",
    "# Add tweet length (optional)\n",
    "df['Tweet_Length'] = df['Tweet'].apply(lambda x: len(str(x).split()))\n",
    "\n",
    "# Save cleaned file\n",
    "df.to_csv(\"cleaned_sentiment_data.csv\", index=False)\n",
    "\n",
    "print(\"✅ Cleaned data saved as cleaned_sentiment_data.csv\")\n"
   ]
  },
  {
   "cell_type": "code",
   "execution_count": null,
   "id": "235616f4-5913-4d79-9e8d-04da4d813ebe",
   "metadata": {},
   "outputs": [],
   "source": []
  }
 ],
 "metadata": {
  "kernelspec": {
   "display_name": "Python 3 (ipykernel)",
   "language": "python",
   "name": "python3"
  },
  "language_info": {
   "codemirror_mode": {
    "name": "ipython",
    "version": 3
   },
   "file_extension": ".py",
   "mimetype": "text/x-python",
   "name": "python",
   "nbconvert_exporter": "python",
   "pygments_lexer": "ipython3",
   "version": "3.12.4"
  }
 },
 "nbformat": 4,
 "nbformat_minor": 5
}
